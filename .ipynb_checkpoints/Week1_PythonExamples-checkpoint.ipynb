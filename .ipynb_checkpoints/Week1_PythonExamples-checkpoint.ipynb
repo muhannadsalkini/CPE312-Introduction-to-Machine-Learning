{
 "cells": [
  {
   "cell_type": "code",
   "execution_count": 27,
   "id": "618abc43",
   "metadata": {},
   "outputs": [
    {
     "name": "stdout",
     "output_type": "stream",
     "text": [
      "35\n"
     ]
    }
   ],
   "source": [
    "#Varabels\n",
    "var = 15\n",
    "var2 = 20\n",
    "strvar = \"Tom\"\n",
    "\n",
    "sum1 = var + var2\n",
    "\n",
    "print(sum1)"
   ]
  },
  {
   "cell_type": "code",
   "execution_count": 28,
   "id": "e62e26b2",
   "metadata": {},
   "outputs": [
    {
     "name": "stdout",
     "output_type": "stream",
     "text": [
      "[1, 2, 3, 4, 5]\n",
      "<class 'list'>\n",
      "3\n"
     ]
    }
   ],
   "source": [
    "#Lists\n",
    "\n",
    "listInt = [1,2,3,4,5]\n",
    "listStr = [\"apple\", \"banana\", \"cherry\"]\n",
    "listBool = [True, False, False]\n",
    "listHarmon = [\"abc\", 34, True, 40, \"male\"]\n",
    "\n",
    "print(listInt) #Print the list\n",
    "print(type(listStr)) #Print the data type of list\n",
    "print(len(listBool)) #Print the number of items\n",
    "\n",
    "#listStr.append(\"orange\") #Add item to teh list\n",
    "#listStr.insert(1, \"orange\") #Insert item as a second \n",
    "#listStr.remove(\"banana\") #Remove banana\n"
   ]
  },
  {
   "cell_type": "code",
   "execution_count": 11,
   "id": "99069743",
   "metadata": {},
   "outputs": [
    {
     "name": "stdout",
     "output_type": "stream",
     "text": [
      "b is greater than a\n"
     ]
    }
   ],
   "source": [
    "#If-else\n",
    "\n",
    "a = 100\n",
    "b = 200\n",
    "if b > a: #Compare a and b\n",
    "  print(\"b is greater than a\")\n",
    "else:\n",
    "    print(\"a is greater than b\")"
   ]
  },
  {
   "cell_type": "code",
   "execution_count": 12,
   "id": "bf26201e",
   "metadata": {},
   "outputs": [
    {
     "name": "stdout",
     "output_type": "stream",
     "text": [
      "1\n",
      "2\n",
      "4\n",
      "5\n",
      "6\n"
     ]
    }
   ],
   "source": [
    "#While loop\n",
    "\n",
    "i = 0\n",
    "while i < 6:\n",
    "  i += 1\n",
    "  if i == 3:\n",
    "    continue\n",
    "  print(i)"
   ]
  },
  {
   "cell_type": "code",
   "execution_count": 13,
   "id": "086b26ca",
   "metadata": {},
   "outputs": [
    {
     "name": "stdout",
     "output_type": "stream",
     "text": [
      "apple\n",
      "banana\n"
     ]
    }
   ],
   "source": [
    "#For loop\n",
    "\n",
    "for x in listStr:\n",
    "  print(x)\n",
    "  if x == \"banana\":\n",
    "    break #Leav the loop"
   ]
  },
  {
   "cell_type": "code",
   "execution_count": 18,
   "id": "28c4152b",
   "metadata": {},
   "outputs": [
    {
     "name": "stdout",
     "output_type": "stream",
     "text": [
      "Yongest child age is: 14\n"
     ]
    }
   ],
   "source": [
    "#Functions\n",
    "\n",
    "def yongest_age(child1, child2, child3):\n",
    "    var = child2\n",
    "    if child1<child2:\n",
    "        var = child1\n",
    "    if child3< var:\n",
    "        var = child3\n",
    "    return var\n",
    "\n",
    "child1 = 15\n",
    "child2 = 20\n",
    "child3 = 14\n",
    "yongest = yongest_age(child1, child2, child3)\n",
    "print(\"Yongest child age is:\", yongest)"
   ]
  },
  {
   "cell_type": "code",
   "execution_count": 20,
   "id": "46cdb388",
   "metadata": {},
   "outputs": [
    {
     "name": "stdout",
     "output_type": "stream",
     "text": [
      "2023-03-02 12:15:39.054034\n"
     ]
    }
   ],
   "source": [
    "#Dates\n",
    "\n",
    "import datetime\n",
    "\n",
    "x = datetime.datetime.now()\n",
    "print(x)"
   ]
  },
  {
   "cell_type": "code",
   "execution_count": 1,
   "id": "5816d78f",
   "metadata": {},
   "outputs": [
    {
     "name": "stdout",
     "output_type": "stream",
     "text": [
      "min: 5\n",
      "max 25\n",
      "Absolute: 7.25\n",
      "Power: 64\n"
     ]
    }
   ],
   "source": [
    "#Math\n",
    "\n",
    "var1 = min(5, 10, 25)\n",
    "var2 = max(5, 10, 25)\n",
    "var3 = abs(-7.25) #Returns the absolute\n",
    "var4 = pow(4, 3) #Returns 4 power 3\n",
    "\n",
    "print(\"min:\", var1)\n",
    "print(\"max\", var2)\n",
    "print(\"Absolute:\", var3)\n",
    "print(\"Power:\", var4)"
   ]
  },
  {
   "cell_type": "code",
   "execution_count": 25,
   "id": "41fecb0c",
   "metadata": {},
   "outputs": [
    {
     "name": "stdout",
     "output_type": "stream",
     "text": [
      "An exception occurred\n"
     ]
    }
   ],
   "source": [
    "#Try-Except\n",
    "\n",
    "try:\n",
    "  print(NotDefinedVar)\n",
    "except:\n",
    "  print(\"An exception occurred\")"
   ]
  },
  {
   "cell_type": "code",
   "execution_count": 26,
   "id": "38bf09af",
   "metadata": {},
   "outputs": [
    {
     "name": "stdout",
     "output_type": "stream",
     "text": [
      "Enter username:Muhannad\n",
      "Username is: Muhannad\n"
     ]
    }
   ],
   "source": [
    "#User Inputs\n",
    "\n",
    "username = input(\"Enter username:\")\n",
    "print(\"Username is: \" + username)"
   ]
  },
  {
   "cell_type": "code",
   "execution_count": null,
   "id": "1149e758",
   "metadata": {},
   "outputs": [],
   "source": []
  }
 ],
 "metadata": {
  "kernelspec": {
   "display_name": "Python 3 (ipykernel)",
   "language": "python",
   "name": "python3"
  },
  "language_info": {
   "codemirror_mode": {
    "name": "ipython",
    "version": 3
   },
   "file_extension": ".py",
   "mimetype": "text/x-python",
   "name": "python",
   "nbconvert_exporter": "python",
   "pygments_lexer": "ipython3",
   "version": "3.9.13"
  }
 },
 "nbformat": 4,
 "nbformat_minor": 5
}
