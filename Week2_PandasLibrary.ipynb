{
 "cells": [
  {
   "cell_type": "code",
   "execution_count": 1,
   "id": "d7802fe4",
   "metadata": {},
   "outputs": [],
   "source": [
    "import pandas as pd #Import the library"
   ]
  },
  {
   "cell_type": "code",
   "execution_count": 2,
   "id": "06828572",
   "metadata": {},
   "outputs": [
    {
     "name": "stdout",
     "output_type": "stream",
     "text": [
      "       name  age  note\n",
      "0  Muhannad   21    90\n",
      "1    Tarrik   17    80\n",
      "2   Mustafa   22    70\n"
     ]
    }
   ],
   "source": [
    "#Define a dataframe\n",
    "dicrionary = {\"name\":[\"Muhannad\",\"Tarrik\",\"Mustafa\"],\n",
    "              \"age\":[21,17,22],\n",
    "              \"note\":[90,80,70]}\n",
    "\n",
    "dataframe = pd.DataFrame(dicrionary)\n",
    "print(dataframe)"
   ]
  },
  {
   "cell_type": "code",
   "execution_count": 3,
   "id": "12880986",
   "metadata": {},
   "outputs": [
    {
     "name": "stdout",
     "output_type": "stream",
     "text": [
      "0    Muhannad\n",
      "1      Tarrik\n",
      "2     Mustafa\n",
      "Name: name, dtype: object\n",
      "0    21\n",
      "1    17\n",
      "2    22\n",
      "Name: age, dtype: int64\n",
      "0    21\n",
      "1    17\n",
      "2    22\n",
      "Name: age, dtype: int64\n",
      "       name  age  note\n",
      "0  Muhannad   21    90\n",
      "1    Tarrik   17    80\n",
      "2   Mustafa   22    70\n",
      "       name  age  note  newBill\n",
      "2   Mustafa   22    70        3\n",
      "1    Tarrik   17    80        2\n",
      "0  Muhannad   21    90        1\n"
     ]
    }
   ],
   "source": [
    "print(dataframe[\"name\"]) #Print name column\n",
    "print(dataframe.loc[:, \"age\"]) #Print age column\n",
    "dataframe[\"newBill\"] = [1,2,3] #Define new column\n",
    "print(dataframe.loc[:3, \"age\"]) #Print first 3 in age column\n",
    "print(dataframe.loc[:3, \"name\":\"note\"]) #Print first 3 in name and note columns\n",
    "print(dataframe.loc[::-1]) #Print the frame starting from the last"
   ]
  },
  {
   "cell_type": "code",
   "execution_count": 4,
   "id": "5113bad3",
   "metadata": {},
   "outputs": [
    {
     "name": "stdout",
     "output_type": "stream",
     "text": [
      "   age   bool\n",
      "0   21   True\n",
      "1   17  False\n",
      "2   22   True\n"
     ]
    }
   ],
   "source": [
    "filter = dataframe.age>18 #Cheack if user older than 18\n",
    "dataframe[\"bool\"] = filter\n",
    "print(dataframe.loc[:,[\"age\",\"bool\"]])"
   ]
  },
  {
   "cell_type": "code",
   "execution_count": 5,
   "id": "c72fe30c",
   "metadata": {},
   "outputs": [
    {
     "name": "stdout",
     "output_type": "stream",
     "text": [
      "       name  age  note  newBill  bool\n",
      "0  Muhannad   21    90        1  True\n",
      "2   Mustafa   22    70        3  True\n"
     ]
    }
   ],
   "source": [
    "filter2 = dataframe.note>50\n",
    "filtredData = dataframe[filter&filter2]\n",
    "print(filtredData) #Print the filtred data"
   ]
  },
  {
   "cell_type": "code",
   "execution_count": 6,
   "id": "cb008e42",
   "metadata": {},
   "outputs": [
    {
     "data": {
      "text/html": [
       "<div>\n",
       "<style scoped>\n",
       "    .dataframe tbody tr th:only-of-type {\n",
       "        vertical-align: middle;\n",
       "    }\n",
       "\n",
       "    .dataframe tbody tr th {\n",
       "        vertical-align: top;\n",
       "    }\n",
       "\n",
       "    .dataframe thead th {\n",
       "        text-align: right;\n",
       "    }\n",
       "</style>\n",
       "<table border=\"1\" class=\"dataframe\">\n",
       "  <thead>\n",
       "    <tr style=\"text-align: right;\">\n",
       "      <th></th>\n",
       "      <th>name</th>\n",
       "      <th>age</th>\n",
       "      <th>note</th>\n",
       "      <th>newBill</th>\n",
       "      <th>bool</th>\n",
       "    </tr>\n",
       "  </thead>\n",
       "  <tbody>\n",
       "    <tr>\n",
       "      <th>0</th>\n",
       "      <td>Muhannad</td>\n",
       "      <td>21</td>\n",
       "      <td>90</td>\n",
       "      <td>1</td>\n",
       "      <td>True</td>\n",
       "    </tr>\n",
       "    <tr>\n",
       "      <th>1</th>\n",
       "      <td>Tarrik</td>\n",
       "      <td>17</td>\n",
       "      <td>80</td>\n",
       "      <td>2</td>\n",
       "      <td>False</td>\n",
       "    </tr>\n",
       "    <tr>\n",
       "      <th>2</th>\n",
       "      <td>Mustafa</td>\n",
       "      <td>22</td>\n",
       "      <td>70</td>\n",
       "      <td>3</td>\n",
       "      <td>True</td>\n",
       "    </tr>\n",
       "  </tbody>\n",
       "</table>\n",
       "</div>"
      ],
      "text/plain": [
       "       name  age  note  newBill   bool\n",
       "0  Muhannad   21    90        1   True\n",
       "1    Tarrik   17    80        2  False\n",
       "2   Mustafa   22    70        3   True"
      ]
     },
     "execution_count": 6,
     "metadata": {},
     "output_type": "execute_result"
    }
   ],
   "source": [
    "#Drop nulls\n",
    "dataframe.dropna(inplace=True) \n",
    "dataframe"
   ]
  },
  {
   "cell_type": "code",
   "execution_count": 7,
   "id": "3e7f2883",
   "metadata": {},
   "outputs": [
    {
     "data": {
      "text/html": [
       "<div>\n",
       "<style scoped>\n",
       "    .dataframe tbody tr th:only-of-type {\n",
       "        vertical-align: middle;\n",
       "    }\n",
       "\n",
       "    .dataframe tbody tr th {\n",
       "        vertical-align: top;\n",
       "    }\n",
       "\n",
       "    .dataframe thead th {\n",
       "        text-align: right;\n",
       "    }\n",
       "</style>\n",
       "<table border=\"1\" class=\"dataframe\">\n",
       "  <thead>\n",
       "    <tr style=\"text-align: right;\">\n",
       "      <th></th>\n",
       "      <th>name</th>\n",
       "      <th>age</th>\n",
       "      <th>note</th>\n",
       "      <th>newBill</th>\n",
       "      <th>bool</th>\n",
       "      <th>situation</th>\n",
       "    </tr>\n",
       "  </thead>\n",
       "  <tbody>\n",
       "    <tr>\n",
       "      <th>0</th>\n",
       "      <td>Muhannad</td>\n",
       "      <td>21</td>\n",
       "      <td>90</td>\n",
       "      <td>1</td>\n",
       "      <td>True</td>\n",
       "      <td>above average</td>\n",
       "    </tr>\n",
       "    <tr>\n",
       "      <th>1</th>\n",
       "      <td>Tarrik</td>\n",
       "      <td>17</td>\n",
       "      <td>80</td>\n",
       "      <td>2</td>\n",
       "      <td>False</td>\n",
       "      <td>above average</td>\n",
       "    </tr>\n",
       "    <tr>\n",
       "      <th>2</th>\n",
       "      <td>Mustafa</td>\n",
       "      <td>22</td>\n",
       "      <td>70</td>\n",
       "      <td>3</td>\n",
       "      <td>True</td>\n",
       "      <td>below agreage</td>\n",
       "    </tr>\n",
       "  </tbody>\n",
       "</table>\n",
       "</div>"
      ],
      "text/plain": [
       "       name  age  note  newBill   bool      situation\n",
       "0  Muhannad   21    90        1   True  above average\n",
       "1    Tarrik   17    80        2  False  above average\n",
       "2   Mustafa   22    70        3   True  below agreage"
      ]
     },
     "execution_count": 7,
     "metadata": {},
     "output_type": "execute_result"
    }
   ],
   "source": [
    "#Check which student is above or below agreage\n",
    "dataframe[\"situation\"]= [\"below agreage\" if dataframe.note.mean()>each else \"above average\" for each in dataframe.note]\n",
    "dataframe"
   ]
  },
  {
   "cell_type": "code",
   "execution_count": 8,
   "id": "1b7232c9",
   "metadata": {},
   "outputs": [
    {
     "data": {
      "text/html": [
       "<div>\n",
       "<style scoped>\n",
       "    .dataframe tbody tr th:only-of-type {\n",
       "        vertical-align: middle;\n",
       "    }\n",
       "\n",
       "    .dataframe tbody tr th {\n",
       "        vertical-align: top;\n",
       "    }\n",
       "\n",
       "    .dataframe thead th {\n",
       "        text-align: right;\n",
       "    }\n",
       "</style>\n",
       "<table border=\"1\" class=\"dataframe\">\n",
       "  <thead>\n",
       "    <tr style=\"text-align: right;\">\n",
       "      <th></th>\n",
       "      <th>name</th>\n",
       "      <th>age</th>\n",
       "      <th>note</th>\n",
       "      <th>newBill</th>\n",
       "      <th>bool</th>\n",
       "      <th>situation</th>\n",
       "      <th>New Bill</th>\n",
       "    </tr>\n",
       "  </thead>\n",
       "  <tbody>\n",
       "    <tr>\n",
       "      <th>0</th>\n",
       "      <td>Muhannad</td>\n",
       "      <td>21</td>\n",
       "      <td>90</td>\n",
       "      <td>1</td>\n",
       "      <td>True</td>\n",
       "      <td>above average</td>\n",
       "      <td>1</td>\n",
       "    </tr>\n",
       "    <tr>\n",
       "      <th>1</th>\n",
       "      <td>Tarrik</td>\n",
       "      <td>17</td>\n",
       "      <td>80</td>\n",
       "      <td>2</td>\n",
       "      <td>False</td>\n",
       "      <td>above average</td>\n",
       "      <td>1</td>\n",
       "    </tr>\n",
       "    <tr>\n",
       "      <th>2</th>\n",
       "      <td>Mustafa</td>\n",
       "      <td>22</td>\n",
       "      <td>70</td>\n",
       "      <td>3</td>\n",
       "      <td>True</td>\n",
       "      <td>below agreage</td>\n",
       "      <td>1</td>\n",
       "    </tr>\n",
       "  </tbody>\n",
       "</table>\n",
       "</div>"
      ],
      "text/plain": [
       "       name  age  note  newBill   bool      situation  New Bill\n",
       "0  Muhannad   21    90        1   True  above average         1\n",
       "1    Tarrik   17    80        2  False  above average         1\n",
       "2   Mustafa   22    70        3   True  below agreage         1"
      ]
     },
     "execution_count": 8,
     "metadata": {},
     "output_type": "execute_result"
    }
   ],
   "source": [
    "#A\n",
    "dataframe[\"New Bill\"] = [1,1,1]\n",
    "dataframe.columns = [each.split('_')[0] +\" \"+ each.split('_')[1] if len(each.split('_'))>1 else each for each in dataframe.columns]\n",
    "dataframe"
   ]
  },
  {
   "cell_type": "code",
   "execution_count": 10,
   "id": "ea54d558",
   "metadata": {},
   "outputs": [
    {
     "data": {
      "text/plain": [
       "Index(['NAME', 'AGE', 'NOTE', 'NEWBILL', 'BOOL', 'SITUATION', 'NEW BILL'], dtype='object')"
      ]
     },
     "execution_count": 10,
     "metadata": {},
     "output_type": "execute_result"
    }
   ],
   "source": [
    "#convert columns name to uppercase\n",
    "dataframe.columns = [each.upper() for each in dataframe.columns]\n",
    "dataframe.columns"
   ]
  },
  {
   "cell_type": "code",
   "execution_count": 11,
   "id": "1ca6749f",
   "metadata": {},
   "outputs": [
    {
     "data": {
      "text/html": [
       "<div>\n",
       "<style scoped>\n",
       "    .dataframe tbody tr th:only-of-type {\n",
       "        vertical-align: middle;\n",
       "    }\n",
       "\n",
       "    .dataframe tbody tr th {\n",
       "        vertical-align: top;\n",
       "    }\n",
       "\n",
       "    .dataframe thead th {\n",
       "        text-align: right;\n",
       "    }\n",
       "</style>\n",
       "<table border=\"1\" class=\"dataframe\">\n",
       "  <thead>\n",
       "    <tr style=\"text-align: right;\">\n",
       "      <th></th>\n",
       "      <th>NAME</th>\n",
       "      <th>AGE</th>\n",
       "      <th>NOTE</th>\n",
       "      <th>NEWBILL</th>\n",
       "      <th>BOOL</th>\n",
       "      <th>SITUATION</th>\n",
       "      <th>NEW BILL</th>\n",
       "    </tr>\n",
       "  </thead>\n",
       "  <tbody>\n",
       "    <tr>\n",
       "      <th>0</th>\n",
       "      <td>Muhannad</td>\n",
       "      <td>21</td>\n",
       "      <td>90</td>\n",
       "      <td>1</td>\n",
       "      <td>True</td>\n",
       "      <td>above average</td>\n",
       "      <td>1</td>\n",
       "    </tr>\n",
       "    <tr>\n",
       "      <th>1</th>\n",
       "      <td>Tarrik</td>\n",
       "      <td>17</td>\n",
       "      <td>80</td>\n",
       "      <td>2</td>\n",
       "      <td>False</td>\n",
       "      <td>above average</td>\n",
       "      <td>1</td>\n",
       "    </tr>\n",
       "    <tr>\n",
       "      <th>2</th>\n",
       "      <td>Mustafa</td>\n",
       "      <td>22</td>\n",
       "      <td>70</td>\n",
       "      <td>3</td>\n",
       "      <td>True</td>\n",
       "      <td>below agreage</td>\n",
       "      <td>1</td>\n",
       "    </tr>\n",
       "    <tr>\n",
       "      <th>0</th>\n",
       "      <td>Muhannad</td>\n",
       "      <td>21</td>\n",
       "      <td>90</td>\n",
       "      <td>1</td>\n",
       "      <td>True</td>\n",
       "      <td>above average</td>\n",
       "      <td>1</td>\n",
       "    </tr>\n",
       "    <tr>\n",
       "      <th>1</th>\n",
       "      <td>Tarrik</td>\n",
       "      <td>17</td>\n",
       "      <td>80</td>\n",
       "      <td>2</td>\n",
       "      <td>False</td>\n",
       "      <td>above average</td>\n",
       "      <td>1</td>\n",
       "    </tr>\n",
       "    <tr>\n",
       "      <th>2</th>\n",
       "      <td>Mustafa</td>\n",
       "      <td>22</td>\n",
       "      <td>70</td>\n",
       "      <td>3</td>\n",
       "      <td>True</td>\n",
       "      <td>below agreage</td>\n",
       "      <td>1</td>\n",
       "    </tr>\n",
       "  </tbody>\n",
       "</table>\n",
       "</div>"
      ],
      "text/plain": [
       "       NAME  AGE  NOTE  NEWBILL   BOOL      SITUATION  NEW BILL\n",
       "0  Muhannad   21    90        1   True  above average         1\n",
       "1    Tarrik   17    80        2  False  above average         1\n",
       "2   Mustafa   22    70        3   True  below agreage         1\n",
       "0  Muhannad   21    90        1   True  above average         1\n",
       "1    Tarrik   17    80        2  False  above average         1\n",
       "2   Mustafa   22    70        3   True  below agreage         1"
      ]
     },
     "execution_count": 11,
     "metadata": {},
     "output_type": "execute_result"
    }
   ],
   "source": [
    "data1 = dataframe.head()\n",
    "data2 = dataframe.tail()\n",
    "data_concat = pd.concat([data1, data2],axis=0)\n",
    "data_concat"
   ]
  },
  {
   "cell_type": "code",
   "execution_count": 14,
   "id": "050f80d2",
   "metadata": {},
   "outputs": [
    {
     "data": {
      "text/html": [
       "<div>\n",
       "<style scoped>\n",
       "    .dataframe tbody tr th:only-of-type {\n",
       "        vertical-align: middle;\n",
       "    }\n",
       "\n",
       "    .dataframe tbody tr th {\n",
       "        vertical-align: top;\n",
       "    }\n",
       "\n",
       "    .dataframe thead th {\n",
       "        text-align: right;\n",
       "    }\n",
       "</style>\n",
       "<table border=\"1\" class=\"dataframe\">\n",
       "  <thead>\n",
       "    <tr style=\"text-align: right;\">\n",
       "      <th></th>\n",
       "      <th>NAME</th>\n",
       "      <th>AGE</th>\n",
       "      <th>NOTE</th>\n",
       "      <th>NEWBILL</th>\n",
       "      <th>BOOL</th>\n",
       "      <th>SITUATION</th>\n",
       "      <th>NEW BILL</th>\n",
       "      <th>NewAge</th>\n",
       "      <th>ApplyMethon</th>\n",
       "    </tr>\n",
       "  </thead>\n",
       "  <tbody>\n",
       "    <tr>\n",
       "      <th>0</th>\n",
       "      <td>Muhannad</td>\n",
       "      <td>21</td>\n",
       "      <td>90</td>\n",
       "      <td>1</td>\n",
       "      <td>True</td>\n",
       "      <td>above average</td>\n",
       "      <td>1</td>\n",
       "      <td>42</td>\n",
       "      <td>42</td>\n",
       "    </tr>\n",
       "    <tr>\n",
       "      <th>1</th>\n",
       "      <td>Tarrik</td>\n",
       "      <td>17</td>\n",
       "      <td>80</td>\n",
       "      <td>2</td>\n",
       "      <td>False</td>\n",
       "      <td>above average</td>\n",
       "      <td>1</td>\n",
       "      <td>34</td>\n",
       "      <td>34</td>\n",
       "    </tr>\n",
       "    <tr>\n",
       "      <th>2</th>\n",
       "      <td>Mustafa</td>\n",
       "      <td>22</td>\n",
       "      <td>70</td>\n",
       "      <td>3</td>\n",
       "      <td>True</td>\n",
       "      <td>below agreage</td>\n",
       "      <td>1</td>\n",
       "      <td>44</td>\n",
       "      <td>44</td>\n",
       "    </tr>\n",
       "  </tbody>\n",
       "</table>\n",
       "</div>"
      ],
      "text/plain": [
       "       NAME  AGE  NOTE  NEWBILL   BOOL      SITUATION  NEW BILL  NewAge  \\\n",
       "0  Muhannad   21    90        1   True  above average         1      42   \n",
       "1    Tarrik   17    80        2  False  above average         1      34   \n",
       "2   Mustafa   22    70        3   True  below agreage         1      44   \n",
       "\n",
       "   ApplyMethon  \n",
       "0           42  \n",
       "1           34  \n",
       "2           44  "
      ]
     },
     "execution_count": 14,
     "metadata": {},
     "output_type": "execute_result"
    }
   ],
   "source": [
    "dataframe[\"NewAge\"] = [each*2 for each in dataframe.AGE]\n",
    "\n",
    "def mlt(yas):\n",
    "    return yas*2\n",
    "dataframe[\"ApplyMethon\"] = dataframe.AGE.apply(mlt)\n",
    "dataframe"
   ]
  },
  {
   "cell_type": "code",
   "execution_count": null,
   "id": "b239c981",
   "metadata": {},
   "outputs": [],
   "source": []
  }
 ],
 "metadata": {
  "kernelspec": {
   "display_name": "Python 3 (ipykernel)",
   "language": "python",
   "name": "python3"
  },
  "language_info": {
   "codemirror_mode": {
    "name": "ipython",
    "version": 3
   },
   "file_extension": ".py",
   "mimetype": "text/x-python",
   "name": "python",
   "nbconvert_exporter": "python",
   "pygments_lexer": "ipython3",
   "version": "3.9.13"
  }
 },
 "nbformat": 4,
 "nbformat_minor": 5
}
